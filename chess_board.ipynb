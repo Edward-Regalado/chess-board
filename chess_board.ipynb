{
 "cells": [
  {
   "cell_type": "code",
   "execution_count": null,
   "source": [
    "import numpy as np\n",
    "import matplotlib.pyplot as plt"
   ],
   "outputs": [],
   "metadata": {}
  },
  {
   "cell_type": "code",
   "execution_count": null,
   "source": [
    "class ChessBoard:\n",
    "  def __init__(self):\n",
    "    \"\"\"Creates an instance of a chess board\"\"\"\n",
    "    self.grid = np.zeros((8,8,3))\n",
    "    self.grid[1::2, ::2] = 1\n",
    "    self.grid[::2, 1::2] = 1\n",
    "    self.red_queen = None     # index0 =row, index1=column\n",
    "    self.blue_queen = None    # index0 =row, index1=column\n",
    "\n",
    "  def add_red(self, row, col):\n",
    "    \"\"\"Adds a red \"queen\" piece to the specified row/column\"\"\"\n",
    "    self.red_queen = (row, col)\n",
    "    self.grid[row, col] = (1,0,0)\n",
    "  \n",
    "  def add_blue(self, row, col):\n",
    "    \"\"\"Adds a blue \"queen\" piece to the specified row/column\"\"\"\n",
    "    self.blue_queen = (row, col)\n",
    "    self.grid[row, col] = (0,0,1)\n",
    "\n",
    "  def render(self):\n",
    "    \"\"\"Renders the board\"\"\"\n",
    "    plt.imshow(self.grid)\n",
    "  \n",
    "  def is_under_attack(self):\n",
    "    \"\"\"Tests if the queens are under attack\"\"\"\n",
    "    if self.red_queen[0] == self.blue_queen[0]:   # if the queens are on the same row\n",
    "      print(\"*****UNDER ATTACK*****\")\n",
    "      return True\n",
    "    if self.red_queen[1] == self.blue_queen[1]:   # if the queens are on the same column\n",
    "      print(\"*****UNDER ATTACK*****\")\n",
    "      return True\n",
    "    if abs(self.red_queen[0] - self.blue_queen[0]) == abs(self.red_queen[1] - self.blue_queen[1]):\n",
    "      print(\"*****UNDER ATTACK*****\")\n",
    "      return True\n",
    "    else:\n",
    "      print(\"*****Not under attack*****\")\n",
    "      return False"
   ],
   "outputs": [],
   "metadata": {}
  },
  {
   "cell_type": "code",
   "execution_count": null,
   "source": [
    "myBoard = ChessBoard()\n",
    "myBoard.render()"
   ],
   "outputs": [],
   "metadata": {}
  },
  {
   "cell_type": "code",
   "execution_count": null,
   "source": [
    "# tests adding queens\n",
    "myBoard = ChessBoard()\n",
    "myBoard.add_red(0,0)\n",
    "myBoard.add_blue(0,4)\n",
    "myBoard.render()"
   ],
   "outputs": [],
   "metadata": {}
  },
  {
   "cell_type": "code",
   "execution_count": null,
   "source": [
    "# test queens in same row\n",
    "myBoard = ChessBoard()\n",
    "myBoard.add_red(0,0)\n",
    "myBoard.add_blue(0, 4)\n",
    "myBoard.render()\n",
    "\n",
    "assert myBoard.is_under_attack()"
   ],
   "outputs": [],
   "metadata": {}
  },
  {
   "cell_type": "code",
   "execution_count": null,
   "source": [
    "# test queens not under attack\n",
    "myBoard = ChessBoard()\n",
    "myBoard.add_red(1,0)\n",
    "myBoard.add_blue(0, 4)\n",
    "myBoard.render()\n",
    "assert not myBoard.is_under_attack()"
   ],
   "outputs": [],
   "metadata": {}
  },
  {
   "cell_type": "code",
   "execution_count": null,
   "source": [
    "# test queens in same column\n",
    "myBoard = ChessBoard()\n",
    "myBoard.add_red(0, 4)\n",
    "myBoard.add_blue(1, 4)\n",
    "myBoard.render()\n",
    "\n",
    "assert myBoard.is_under_attack()"
   ],
   "outputs": [],
   "metadata": {}
  },
  {
   "cell_type": "code",
   "execution_count": null,
   "source": [
    "# test queens in diagonal\n",
    "myBoard = ChessBoard()\n",
    "myBoard.add_red(0,0)\n",
    "myBoard.add_blue(2,2)\n",
    "myBoard.render()\n",
    "assert myBoard.is_under_attack()"
   ],
   "outputs": [],
   "metadata": {}
  }
 ],
 "metadata": {
  "orig_nbformat": 4,
  "language_info": {
   "name": "python"
  }
 },
 "nbformat": 4,
 "nbformat_minor": 2
}